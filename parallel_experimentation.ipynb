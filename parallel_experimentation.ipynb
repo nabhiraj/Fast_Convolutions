{
  "nbformat": 4,
  "nbformat_minor": 0,
  "metadata": {
    "colab": {
      "name": "parallel_experimentation",
      "provenance": [],
      "collapsed_sections": [],
      "toc_visible": true
    },
    "kernelspec": {
      "display_name": "Python 3",
      "name": "python3"
    }
  },
  "cells": [
    {
      "cell_type": "code",
      "metadata": {
        "id": "SQPXojInulTo",
        "colab_type": "code",
        "colab": {}
      },
      "source": [
        "import numpy as np"
      ],
      "execution_count": 0,
      "outputs": []
    },
    {
      "cell_type": "code",
      "metadata": {
        "id": "Z2gwJOsZuAlY",
        "colab_type": "code",
        "colab": {}
      },
      "source": [
        "#starting experiment with convolution layer.\n",
        "def basic_conv(layer,kernel):\n",
        "  layer_size=layer.shape[0]\n",
        "  kernel_size=kernel.shape[0]\n",
        "  sub_start=0\n",
        "  sub_end=layer_size-kernel_size+1\n",
        "  output=[]\n",
        "  for sub_row_start in range(sub_start,sub_end):\n",
        "    sub_row_end=sub_row_start+kernel_size\n",
        "    temp_row=[]\n",
        "    for sub_col_start in range(sub_start,sub_end):\n",
        "      sub_col_end=sub_col_start+kernel_size\n",
        "      temp_mat=layer[sub_row_start:sub_row_end,sub_col_start:sub_col_end]*kernel\n",
        "      temp_mat=np.sum(temp_mat)\n",
        "      temp_row.append(temp_mat)\n",
        "    output.append(temp_row)\n",
        "  return np.array(output)"
      ],
      "execution_count": 0,
      "outputs": []
    },
    {
      "cell_type": "code",
      "metadata": {
        "id": "AiBHl8MXxKUr",
        "colab_type": "code",
        "colab": {}
      },
      "source": [
        "layer=[[1,1,1,2,1],[2,3,2,6,2],[4,5,6,3,3],[1,1,1,1,1],[3,3,3,4,5]]\n",
        "kernel=[[1,1],[1,2]]\n",
        "layer=np.array(layer)\n",
        "kernel=np.array(kernel)"
      ],
      "execution_count": 0,
      "outputs": []
    },
    {
      "cell_type": "code",
      "metadata": {
        "id": "et-ojOKLyN-l",
        "colab_type": "code",
        "colab": {}
      },
      "source": [
        "res=basic_conv(layer,kernel)"
      ],
      "execution_count": 0,
      "outputs": []
    },
    {
      "cell_type": "code",
      "metadata": {
        "id": "FNOpDpJNxrRf",
        "colab_type": "code",
        "colab": {
          "base_uri": "https://localhost:8080/",
          "height": 204
        },
        "outputId": "043c5980-cc40-481c-ac69-2faef5f754df"
      },
      "source": [
        "print(layer)\n",
        "print(kernel)\n",
        "print(res)"
      ],
      "execution_count": 105,
      "outputs": [
        {
          "output_type": "stream",
          "text": [
            "[[1 1 1 2 1]\n",
            " [2 3 2 6 2]\n",
            " [4 5 6 3 3]\n",
            " [1 1 1 1 1]\n",
            " [3 3 3 4 5]]\n",
            "[[1 1]\n",
            " [1 2]]\n",
            "[[10  9 17 13]\n",
            " [19 22 20 17]\n",
            " [12 14 12  9]\n",
            " [11 11 13 16]]\n"
          ],
          "name": "stdout"
        }
      ]
    },
    {
      "cell_type": "markdown",
      "metadata": {
        "id": "rLhaPBybzE5j",
        "colab_type": "text"
      },
      "source": [
        "this is working perfectly fine now we have to archive the same with the help of Fast forier transform. but its good to verifly with a standard library first."
      ]
    },
    {
      "cell_type": "code",
      "metadata": {
        "id": "MAMr1-5KzRBG",
        "colab_type": "code",
        "colab": {}
      },
      "source": [
        "from scipy.ndimage import convolve\n",
        "from scipy.ndimage import correlate\n",
        "abs_res=convolve(layer, kernel,mode='wrap')\n",
        "abs_res2=correlate(layer, kernel,mode='wrap')"
      ],
      "execution_count": 0,
      "outputs": []
    },
    {
      "cell_type": "code",
      "metadata": {
        "id": "1CMI0xcGAdpL",
        "colab_type": "code",
        "colab": {}
      },
      "source": [
        "from scipy import signal\n",
        "abs_res3 = signal.correlate(layer,kernel, mode='valid')"
      ],
      "execution_count": 0,
      "outputs": []
    },
    {
      "cell_type": "code",
      "metadata": {
        "id": "oWi1WM8t0h3C",
        "colab_type": "code",
        "colab": {
          "base_uri": "https://localhost:8080/",
          "height": 255
        },
        "outputId": "a5a8d471-1d20-4750-b59f-faaca623e9fa"
      },
      "source": [
        "print(abs_res)\n",
        "print(abs_res2)\n",
        "print(abs_res3)"
      ],
      "execution_count": 108,
      "outputs": [
        {
          "output_type": "stream",
          "text": [
            "[[ 8  8 12 13  7]\n",
            " [16 19 19 20 13]\n",
            " [15 18 17 11 12]\n",
            " [ 9  9 10 12 11]\n",
            " [11 11 13 16 15]]\n",
            "[[11  9  9 12 13]\n",
            " [ 8 10  9 17 13]\n",
            " [15 19 22 20 17]\n",
            " [10 12 14 12  9]\n",
            " [13 11 11 13 16]]\n",
            "[[10  9 17 13]\n",
            " [19 22 20 17]\n",
            " [12 14 12  9]\n",
            " [11 11 13 16]]\n"
          ],
          "name": "stdout"
        }
      ]
    },
    {
      "cell_type": "markdown",
      "metadata": {
        "id": "NxPh65vH0qRp",
        "colab_type": "text"
      },
      "source": [
        "ok so the convolution aka corelation that we are doing are correct lets move forward.\n",
        "\n",
        "we are able to get some partial information this is lets try to figure out things by doing further experiments.\n",
        "\n",
        "i.e things are going ok with the wrap mode."
      ]
    },
    {
      "cell_type": "code",
      "metadata": {
        "id": "V1VNatat0xOj",
        "colab_type": "code",
        "colab": {}
      },
      "source": [
        "#starting with forer shit.\n",
        "f_layer=np.fft.fft2(layer,(5,5))\n",
        "f_kernel=np.fft.fft2(np.flip(kernel),(5,5))\n",
        "f_mul=f_layer*f_kernel\n",
        "r_mul=np.fft.ifft2(f_mul)"
      ],
      "execution_count": 0,
      "outputs": []
    },
    {
      "cell_type": "code",
      "metadata": {
        "id": "17A-lGzuaJ99",
        "colab_type": "code",
        "colab": {
          "base_uri": "https://localhost:8080/",
          "height": 272
        },
        "outputId": "94852673-ddae-4ed2-b5c7-1614df4e3c4a"
      },
      "source": [
        "print(f_layer)"
      ],
      "execution_count": 110,
      "outputs": [
        {
          "output_type": "stream",
          "text": [
            "[[ 65.         +0.j          -4.73606798 +0.81229924j\n",
            "   -0.26393202 -3.4409548j   -0.26393202 +3.4409548j\n",
            "   -4.73606798 -0.81229924j]\n",
            " [ -4.83688104 -6.55139449j  -4.30901699 +7.83296612j\n",
            "   -3.61803399 -5.42882455j   3.19098301 +1.76335576j\n",
            "    2.07294902 -1.67759904j]\n",
            " [-12.66311896+16.98026002j   4.30901699 -2.85316955j\n",
            "   -3.19098301 +2.21238373j   5.42705098 -3.66546879j\n",
            "   -1.38196601 +4.53076859j]\n",
            " [-12.66311896-16.98026002j  -1.38196601 -4.53076859j\n",
            "    5.42705098 +3.66546879j  -3.19098301 -2.21238373j\n",
            "    4.30901699 +2.85316955j]\n",
            " [ -4.83688104 +6.55139449j   2.07294902 +1.67759904j\n",
            "    3.19098301 -1.76335576j  -3.61803399 +5.42882455j\n",
            "   -4.30901699 -7.83296612j]]\n"
          ],
          "name": "stdout"
        }
      ]
    },
    {
      "cell_type": "code",
      "metadata": {
        "id": "aBxibou_In12",
        "colab_type": "code",
        "colab": {
          "base_uri": "https://localhost:8080/",
          "height": 136
        },
        "outputId": "6d3541cd-4740-4288-ffbc-4d89d39fd99d"
      },
      "source": [
        "\n",
        "print(r_mul)\n",
        "print(np.flip(kernel))"
      ],
      "execution_count": 111,
      "outputs": [
        {
          "output_type": "stream",
          "text": [
            "[[15.+0.j 11.+0.j 11.+0.j 13.+0.j 16.+0.j]\n",
            " [ 7.+0.j  8.+0.j  8.+0.j 12.+0.j 13.+0.j]\n",
            " [13.+0.j 16.+0.j 19.+0.j 19.+0.j 20.+0.j]\n",
            " [12.+0.j 15.+0.j 18.+0.j 17.+0.j 11.+0.j]\n",
            " [11.+0.j  9.+0.j  9.+0.j 10.+0.j 12.+0.j]]\n",
            "[[2 1]\n",
            " [1 1]]\n"
          ],
          "name": "stdout"
        }
      ]
    },
    {
      "cell_type": "markdown",
      "metadata": {
        "id": "m0sHCZyGSZaP",
        "colab_type": "text"
      },
      "source": [
        "now we need to find how the padding and trucating is happending under the hood.\n",
        "\n",
        "-> my assumption are somewat correct atleast about the padding.\n"
      ]
    },
    {
      "cell_type": "code",
      "metadata": {
        "id": "WEkLxMcDSYm7",
        "colab_type": "code",
        "colab": {
          "base_uri": "https://localhost:8080/",
          "height": 34
        },
        "outputId": "262b8166-081e-4c69-8874-2dd2c096d48f"
      },
      "source": [
        "kernel_list=np.flip(kernel).tolist()\n",
        "kernel_size=kernel.shape[0]\n",
        "for i in range(kernel_size):\n",
        "  for j in range(kernel_size,5):\n",
        "    kernel_list[i].append(0)\n",
        "for i in range(kernel_size,5):\n",
        "  kernel_list.append([])\n",
        "  for j in range(5):\n",
        "    kernel_list[i].append(0)\n",
        "\n",
        "print(kernel_list)"
      ],
      "execution_count": 117,
      "outputs": [
        {
          "output_type": "stream",
          "text": [
            "[[2, 1, 0, 0, 0], [1, 1, 0, 0, 0], [0, 0, 0, 0, 0], [0, 0, 0, 0, 0], [0, 0, 0, 0, 0]]\n"
          ],
          "name": "stdout"
        }
      ]
    },
    {
      "cell_type": "code",
      "metadata": {
        "id": "fyJvh_0xVXdY",
        "colab_type": "code",
        "colab": {
          "base_uri": "https://localhost:8080/",
          "height": 102
        },
        "outputId": "ec86e117-234d-45f3-e4f3-d9b0b1ecb861"
      },
      "source": [
        "new_kernel=np.array(kernel_list)\n",
        "print(new_kernel)"
      ],
      "execution_count": 118,
      "outputs": [
        {
          "output_type": "stream",
          "text": [
            "[[2 1 0 0 0]\n",
            " [1 1 0 0 0]\n",
            " [0 0 0 0 0]\n",
            " [0 0 0 0 0]\n",
            " [0 0 0 0 0]]\n"
          ],
          "name": "stdout"
        }
      ]
    },
    {
      "cell_type": "code",
      "metadata": {
        "id": "Gp5jzEv1XYsf",
        "colab_type": "code",
        "colab": {
          "base_uri": "https://localhost:8080/",
          "height": 544
        },
        "outputId": "a1f60716-f458-4207-ba8c-db9898518517"
      },
      "source": [
        "print(np.fft.fft2(new_kernel))\n",
        "print('this is the second one')\n",
        "print(np.fft.fft2(kernel,(5,5)))"
      ],
      "execution_count": 119,
      "outputs": [
        {
          "output_type": "stream",
          "text": [
            "[[5.        +0.00000000e+00j 3.61803399-1.90211303e+00j\n",
            "  1.38196601-1.17557050e+00j 1.38196601+1.17557050e+00j\n",
            "  3.61803399+1.90211303e+00j]\n",
            " [3.61803399-1.90211303e+00j 1.80901699-2.48989828e+00j\n",
            "  0.69098301-9.51056516e-01j 1.80901699+5.87785252e-01j\n",
            "  3.61803399+0.00000000e+00j]\n",
            " [1.38196601-1.17557050e+00j 0.69098301-9.51056516e-01j\n",
            "  0.69098301-2.24513988e-01j 1.38196601-1.38777878e-17j\n",
            "  1.80901699-5.87785252e-01j]\n",
            " [1.38196601+1.17557050e+00j 1.80901699+5.87785252e-01j\n",
            "  1.38196601+1.38777878e-17j 0.69098301+2.24513988e-01j\n",
            "  0.69098301+9.51056516e-01j]\n",
            " [3.61803399+1.90211303e+00j 3.61803399+0.00000000e+00j\n",
            "  1.80901699-5.87785252e-01j 0.69098301+9.51056516e-01j\n",
            "  1.80901699+2.48989828e+00j]]\n",
            "this is the second one\n",
            "[[ 5.00000000e+00+0.00000000e+00j  2.92705098e+00-2.85316955e+00j\n",
            "  -4.27050983e-01-1.76335576e+00j -4.27050983e-01+1.76335576e+00j\n",
            "   2.92705098e+00+2.85316955e+00j]\n",
            " [ 2.92705098e+00-2.85316955e+00j  2.22044605e-16-3.07768354e+00j\n",
            "  -1.11803399e+00-3.63271264e-01j  1.11803399e+00+1.53884177e+00j\n",
            "   3.61803399e+00-2.22044605e-16j]\n",
            " [-4.27050983e-01-1.76335576e+00j -1.11803399e+00-3.63271264e-01j\n",
            "   1.11022302e-16+7.26542528e-01j  1.38196601e+00+0.00000000e+00j\n",
            "   1.11803399e+00-1.53884177e+00j]\n",
            " [-4.27050983e-01+1.76335576e+00j  1.11803399e+00+1.53884177e+00j\n",
            "   1.38196601e+00+0.00000000e+00j  1.11022302e-16-7.26542528e-01j\n",
            "  -1.11803399e+00+3.63271264e-01j]\n",
            " [ 2.92705098e+00+2.85316955e+00j  3.61803399e+00+2.22044605e-16j\n",
            "   1.11803399e+00-1.53884177e+00j -1.11803399e+00+3.63271264e-01j\n",
            "   2.22044605e-16+3.07768354e+00j]]\n"
          ],
          "name": "stdout"
        }
      ]
    },
    {
      "cell_type": "code",
      "metadata": {
        "id": "IX34LJvIVfXB",
        "colab_type": "code",
        "colab": {}
      },
      "source": [
        "#now we will do the convolution operation.\n",
        "#new_kernel=np.flip(new_kernel)\n",
        "temp_layer=np.fft.fft2(layer,(5,5))\n",
        "temp_kernel=np.fft.fft2(new_kernel)\n",
        "temp=temp_layer*temp_kernel\n",
        "tt=np.fft.ifft2(temp)"
      ],
      "execution_count": 0,
      "outputs": []
    },
    {
      "cell_type": "code",
      "metadata": {
        "id": "grTtnsRiWF9N",
        "colab_type": "code",
        "colab": {
          "base_uri": "https://localhost:8080/",
          "height": 357
        },
        "outputId": "a9e847be-5353-4a62-e5e4-c6a2dac2ca5d"
      },
      "source": [
        "print(tt)\n",
        "print(temp_layer)"
      ],
      "execution_count": 121,
      "outputs": [
        {
          "output_type": "stream",
          "text": [
            "[[11.+0.j  9.+0.j  9.+0.j 12.+0.j 13.+0.j]\n",
            " [ 8.+0.j 10.+0.j  9.+0.j 17.+0.j 13.+0.j]\n",
            " [15.+0.j 19.+0.j 22.+0.j 20.+0.j 17.+0.j]\n",
            " [10.+0.j 12.+0.j 14.+0.j 12.+0.j  9.+0.j]\n",
            " [13.+0.j 11.+0.j 11.+0.j 13.+0.j 16.+0.j]]\n",
            "[[ 65.         +0.j          -4.73606798 +0.81229924j\n",
            "   -0.26393202 -3.4409548j   -0.26393202 +3.4409548j\n",
            "   -4.73606798 -0.81229924j]\n",
            " [ -4.83688104 -6.55139449j  -4.30901699 +7.83296612j\n",
            "   -3.61803399 -5.42882455j   3.19098301 +1.76335576j\n",
            "    2.07294902 -1.67759904j]\n",
            " [-12.66311896+16.98026002j   4.30901699 -2.85316955j\n",
            "   -3.19098301 +2.21238373j   5.42705098 -3.66546879j\n",
            "   -1.38196601 +4.53076859j]\n",
            " [-12.66311896-16.98026002j  -1.38196601 -4.53076859j\n",
            "    5.42705098 +3.66546879j  -3.19098301 -2.21238373j\n",
            "    4.30901699 +2.85316955j]\n",
            " [ -4.83688104 +6.55139449j   2.07294902 +1.67759904j\n",
            "    3.19098301 -1.76335576j  -3.61803399 +5.42882455j\n",
            "   -4.30901699 -7.83296612j]]\n"
          ],
          "name": "stdout"
        }
      ]
    }
  ]
}